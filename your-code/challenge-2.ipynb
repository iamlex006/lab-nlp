{
 "cells": [
  {
   "cell_type": "markdown",
   "metadata": {},
   "source": [
    "# Challenge 2: Sentiment Analysis\n",
    "\n",
    "In this challenge we will learn sentiment analysis and practice performing sentiment analysis on Twitter tweets. \n",
    "\n",
    "## Introduction\n",
    "\n",
    "Sentiment analysis is to *systematically identify, extract, quantify, and study affective states and subjective information* based on texts ([reference](https://en.wikipedia.org/wiki/Sentiment_analysis)). In simple words, it's to understand whether a person is happy or unhappy in producing the piece of text. Why we (or rather, companies) care about sentiment in texts? It's because by understanding the sentiments in texts, we will be able to know if our customers are happy or unhappy about our products and services. If they are unhappy, the subsequent action is to figure out what have caused the unhappiness and make improvements.\n",
    "\n",
    "Basic sentiment analysis only understands the *positive* or *negative* (sometimes *neutral* too) polarities of the sentiment. More advanced sentiment analysis will also consider dimensions such as agreement, subjectivity, confidence, irony, and so on. In this challenge we will conduct the basic positive vs negative sentiment analysis based on real Twitter tweets.\n",
    "\n",
    "NLTK comes with a [sentiment analysis package](https://www.nltk.org/api/nltk.sentiment.html). This package is great for dummies to perform sentiment analysis because it requires only the textual data to make predictions. For example:\n",
    "\n",
    "```python\n",
    ">>> from nltk.sentiment.vader import SentimentIntensityAnalyzer\n",
    ">>> txt = \"Ironhack is a Global Tech School ranked num 2 worldwide.  ",
    " ",
    "Our mission is to help people transform their careers and join a thriving community of tech professionals that love what they do.\"\n",
    ">>> analyzer = SentimentIntensityAnalyzer()\n",
    ">>> analyzer.polarity_scores(txt)\n",
    "{'neg': 0.0, 'neu': 0.741, 'pos': 0.259, 'compound': 0.8442}\n",
    "```\n",
    "\n",
    "In this challenge, however, you will not use NLTK's sentiment analysis package because in your Machine Learning training in the past 2 weeks you have learned how to make predictions more accurate than that. The [tweets data](https://www.kaggle.com/kazanova/sentiment140) we will be using today are already coded for the positive/negative sentiment. You will be able to use the Naïve Bayes classifier you learned in the lesson to predict the sentiment of tweets based on the labels."
   ]
  },
  {
   "cell_type": "markdown",
   "metadata": {},
   "source": [
    "## Conducting Sentiment Analysis\n",
    "\n",
    "### Loading and Exploring Data\n",
    "\n",
    "The dataset we'll be using today is located on Kaggle (https://www.kaggle.com/kazanova/sentiment140). Once you have downloaded and imported the dataset, it you will need to define the columns names: df.columns = ['target','id','date','flag','user','text']\n",
    "\n",
    "*Notes:* \n",
    "\n",
    "* The dataset is huuuuge (1.6m tweets). When you develop your data analysis codes, you can sample a subset of the data (e.g. 20k records) so that you will save a lot of time when you test your codes."
   ]
  },
  {
   "cell_type": "code",
   "execution_count": 1,
   "metadata": {},
   "outputs": [],
   "source": [
    "import pandas as pd"
   ]
  },
  {
   "cell_type": "code",
   "execution_count": 2,
   "metadata": {
    "scrolled": true
   },
   "outputs": [
    {
     "data": {
      "text/html": [
       "<div>\n",
       "<style scoped>\n",
       "    .dataframe tbody tr th:only-of-type {\n",
       "        vertical-align: middle;\n",
       "    }\n",
       "\n",
       "    .dataframe tbody tr th {\n",
       "        vertical-align: top;\n",
       "    }\n",
       "\n",
       "    .dataframe thead th {\n",
       "        text-align: right;\n",
       "    }\n",
       "</style>\n",
       "<table border=\"1\" class=\"dataframe\">\n",
       "  <thead>\n",
       "    <tr style=\"text-align: right;\">\n",
       "      <th></th>\n",
       "      <th>target</th>\n",
       "      <th>ids</th>\n",
       "      <th>date</th>\n",
       "      <th>flag</th>\n",
       "      <th>user</th>\n",
       "      <th>text</th>\n",
       "    </tr>\n",
       "  </thead>\n",
       "  <tbody>\n",
       "    <tr>\n",
       "      <th>0</th>\n",
       "      <td>0</td>\n",
       "      <td>1467810369</td>\n",
       "      <td>Mon Apr 06 22:19:45 PDT 2009</td>\n",
       "      <td>NO_QUERY</td>\n",
       "      <td>_TheSpecialOne_</td>\n",
       "      <td>@switchfoot http://twitpic.com/2y1zl - Awww, t...</td>\n",
       "    </tr>\n",
       "    <tr>\n",
       "      <th>1</th>\n",
       "      <td>0</td>\n",
       "      <td>1467810672</td>\n",
       "      <td>Mon Apr 06 22:19:49 PDT 2009</td>\n",
       "      <td>NO_QUERY</td>\n",
       "      <td>scotthamilton</td>\n",
       "      <td>is upset that he can't update his Facebook by ...</td>\n",
       "    </tr>\n",
       "    <tr>\n",
       "      <th>2</th>\n",
       "      <td>0</td>\n",
       "      <td>1467810917</td>\n",
       "      <td>Mon Apr 06 22:19:53 PDT 2009</td>\n",
       "      <td>NO_QUERY</td>\n",
       "      <td>mattycus</td>\n",
       "      <td>@Kenichan I dived many times for the ball. Man...</td>\n",
       "    </tr>\n",
       "    <tr>\n",
       "      <th>3</th>\n",
       "      <td>0</td>\n",
       "      <td>1467811184</td>\n",
       "      <td>Mon Apr 06 22:19:57 PDT 2009</td>\n",
       "      <td>NO_QUERY</td>\n",
       "      <td>ElleCTF</td>\n",
       "      <td>my whole body feels itchy and like its on fire</td>\n",
       "    </tr>\n",
       "    <tr>\n",
       "      <th>4</th>\n",
       "      <td>0</td>\n",
       "      <td>1467811193</td>\n",
       "      <td>Mon Apr 06 22:19:57 PDT 2009</td>\n",
       "      <td>NO_QUERY</td>\n",
       "      <td>Karoli</td>\n",
       "      <td>@nationwideclass no, it's not behaving at all....</td>\n",
       "    </tr>\n",
       "  </tbody>\n",
       "</table>\n",
       "</div>"
      ],
      "text/plain": [
       "   target         ids                          date      flag  \\\n",
       "0       0  1467810369  Mon Apr 06 22:19:45 PDT 2009  NO_QUERY   \n",
       "1       0  1467810672  Mon Apr 06 22:19:49 PDT 2009  NO_QUERY   \n",
       "2       0  1467810917  Mon Apr 06 22:19:53 PDT 2009  NO_QUERY   \n",
       "3       0  1467811184  Mon Apr 06 22:19:57 PDT 2009  NO_QUERY   \n",
       "4       0  1467811193  Mon Apr 06 22:19:57 PDT 2009  NO_QUERY   \n",
       "\n",
       "              user                                               text  \n",
       "0  _TheSpecialOne_  @switchfoot http://twitpic.com/2y1zl - Awww, t...  \n",
       "1    scotthamilton  is upset that he can't update his Facebook by ...  \n",
       "2         mattycus  @Kenichan I dived many times for the ball. Man...  \n",
       "3          ElleCTF    my whole body feels itchy and like its on fire   \n",
       "4           Karoli  @nationwideclass no, it's not behaving at all....  "
      ]
     },
     "execution_count": 2,
     "metadata": {},
     "output_type": "execute_result"
    }
   ],
   "source": [
    "data = pd.read_csv('Sentiment140.csv')\n",
    "data.head()"
   ]
  },
  {
   "cell_type": "code",
   "execution_count": 3,
   "metadata": {},
   "outputs": [],
   "source": [
    "#it's a very large file, will create a sample subset to test the code"
   ]
  },
  {
   "cell_type": "code",
   "execution_count": 4,
   "metadata": {
    "scrolled": true
   },
   "outputs": [
    {
     "data": {
      "text/plain": [
       "target\n",
       "0    800000\n",
       "4    800000\n",
       "dtype: int64"
      ]
     },
     "execution_count": 4,
     "metadata": {},
     "output_type": "execute_result"
    }
   ],
   "source": [
    " data.value_counts('target')"
   ]
  },
  {
   "cell_type": "code",
   "execution_count": 5,
   "metadata": {},
   "outputs": [],
   "source": [
    "#there's a 50/50 split in the target, will check it's still similar after sampling the data. "
   ]
  },
  {
   "cell_type": "code",
   "execution_count": 6,
   "metadata": {},
   "outputs": [
    {
     "data": {
      "text/plain": [
       "(5000, 6)"
      ]
     },
     "execution_count": 6,
     "metadata": {},
     "output_type": "execute_result"
    }
   ],
   "source": [
    "sample = data.sample(5000)\n",
    "sample.shape"
   ]
  },
  {
   "cell_type": "code",
   "execution_count": 7,
   "metadata": {
    "scrolled": true
   },
   "outputs": [
    {
     "data": {
      "text/plain": [
       "target\n",
       "4    2502\n",
       "0    2498\n",
       "dtype: int64"
      ]
     },
     "execution_count": 7,
     "metadata": {},
     "output_type": "execute_result"
    }
   ],
   "source": [
    "sample.value_counts('target')"
   ]
  },
  {
   "cell_type": "code",
   "execution_count": 8,
   "metadata": {},
   "outputs": [],
   "source": [
    "#split in the target is still pretty balanced, sample is OK. "
   ]
  },
  {
   "cell_type": "markdown",
   "metadata": {},
   "source": [
    "### Prepare Textual Data for Sentiment Analysis\n",
    "\n",
    "Now, apply the functions you have written in Challenge 1 to your whole data set. These functions include:\n",
    "\n",
    "* `clean_up()`\n",
    "\n",
    "* `tokenize()`\n",
    "\n",
    "* `stem_and_lemmatize()`\n",
    "\n",
    "* `remove_stopwords()`\n",
    "\n",
    "Create a new column called `text_processed` in the dataframe to contain the processed data. At the end, your `text_processed` column should contain lists of word tokens that are cleaned up. Your data should look like below:\n",
    "\n",
    "![Processed Data](data-cleaning-results.png)"
   ]
  },
  {
   "cell_type": "code",
   "execution_count": 9,
   "metadata": {},
   "outputs": [
    {
     "name": "stderr",
     "output_type": "stream",
     "text": [
      "[nltk_data] Downloading package stopwords to /Users/lex/nltk_data...\n",
      "[nltk_data]   Package stopwords is already up-to-date!\n"
     ]
    },
    {
     "data": {
      "text/plain": [
       "True"
      ]
     },
     "execution_count": 9,
     "metadata": {},
     "output_type": "execute_result"
    }
   ],
   "source": [
    "import re\n",
    "from nltk.tokenize import word_tokenize\n",
    "import nltk\n",
    "from nltk.stem import PorterStemmer\n",
    "from nltk.stem import WordNetLemmatizer\n",
    "from nltk.corpus import stopwords\n",
    "nltk.download('stopwords')"
   ]
  },
  {
   "cell_type": "code",
   "execution_count": 10,
   "metadata": {},
   "outputs": [
    {
     "data": {
      "text/html": [
       "<div>\n",
       "<style scoped>\n",
       "    .dataframe tbody tr th:only-of-type {\n",
       "        vertical-align: middle;\n",
       "    }\n",
       "\n",
       "    .dataframe tbody tr th {\n",
       "        vertical-align: top;\n",
       "    }\n",
       "\n",
       "    .dataframe thead th {\n",
       "        text-align: right;\n",
       "    }\n",
       "</style>\n",
       "<table border=\"1\" class=\"dataframe\">\n",
       "  <thead>\n",
       "    <tr style=\"text-align: right;\">\n",
       "      <th></th>\n",
       "      <th>target</th>\n",
       "      <th>ids</th>\n",
       "      <th>date</th>\n",
       "      <th>flag</th>\n",
       "      <th>user</th>\n",
       "      <th>text</th>\n",
       "      <th>cleaned_up</th>\n",
       "    </tr>\n",
       "  </thead>\n",
       "  <tbody>\n",
       "    <tr>\n",
       "      <th>499718</th>\n",
       "      <td>0</td>\n",
       "      <td>2186620702</td>\n",
       "      <td>Mon Jun 15 19:05:52 PDT 2009</td>\n",
       "      <td>NO_QUERY</td>\n",
       "      <td>remembermaine</td>\n",
       "      <td>@saykendrawithme I MISS THEM TOO  Soooooooon. ...</td>\n",
       "      <td>i miss them too soooooooon two days</td>\n",
       "    </tr>\n",
       "    <tr>\n",
       "      <th>102734</th>\n",
       "      <td>0</td>\n",
       "      <td>1795179384</td>\n",
       "      <td>Thu May 14 07:18:21 PDT 2009</td>\n",
       "      <td>NO_QUERY</td>\n",
       "      <td>AprilMooMoo</td>\n",
       "      <td>Oh noooo the wound on my finger is not going t...</td>\n",
       "      <td>oh noooo the wound on my finger is not going t...</td>\n",
       "    </tr>\n",
       "    <tr>\n",
       "      <th>19814</th>\n",
       "      <td>0</td>\n",
       "      <td>1556938499</td>\n",
       "      <td>Sun Apr 19 01:06:56 PDT 2009</td>\n",
       "      <td>NO_QUERY</td>\n",
       "      <td>SarahSaner</td>\n",
       "      <td>@murphygrainne I hope so, I wouldnt want too m...</td>\n",
       "      <td>i hope so i wouldnt want too many of those ki...</td>\n",
       "    </tr>\n",
       "    <tr>\n",
       "      <th>802083</th>\n",
       "      <td>4</td>\n",
       "      <td>1468178974</td>\n",
       "      <td>Tue Apr 07 00:08:40 PDT 2009</td>\n",
       "      <td>NO_QUERY</td>\n",
       "      <td>ForeverYours__</td>\n",
       "      <td>I'm in a David Bowie mood  I feel like watchin...</td>\n",
       "      <td>i m in a david bowie mood i feel like watching...</td>\n",
       "    </tr>\n",
       "    <tr>\n",
       "      <th>909118</th>\n",
       "      <td>4</td>\n",
       "      <td>1751105007</td>\n",
       "      <td>Sat May 09 18:40:31 PDT 2009</td>\n",
       "      <td>NO_QUERY</td>\n",
       "      <td>g_rob</td>\n",
       "      <td>@katintherat Send that along, lady.</td>\n",
       "      <td>send that along lady</td>\n",
       "    </tr>\n",
       "  </tbody>\n",
       "</table>\n",
       "</div>"
      ],
      "text/plain": [
       "        target         ids                          date      flag  \\\n",
       "499718       0  2186620702  Mon Jun 15 19:05:52 PDT 2009  NO_QUERY   \n",
       "102734       0  1795179384  Thu May 14 07:18:21 PDT 2009  NO_QUERY   \n",
       "19814        0  1556938499  Sun Apr 19 01:06:56 PDT 2009  NO_QUERY   \n",
       "802083       4  1468178974  Tue Apr 07 00:08:40 PDT 2009  NO_QUERY   \n",
       "909118       4  1751105007  Sat May 09 18:40:31 PDT 2009  NO_QUERY   \n",
       "\n",
       "                  user                                               text  \\\n",
       "499718   remembermaine  @saykendrawithme I MISS THEM TOO  Soooooooon. ...   \n",
       "102734     AprilMooMoo  Oh noooo the wound on my finger is not going t...   \n",
       "19814       SarahSaner  @murphygrainne I hope so, I wouldnt want too m...   \n",
       "802083  ForeverYours__  I'm in a David Bowie mood  I feel like watchin...   \n",
       "909118           g_rob              @katintherat Send that along, lady.     \n",
       "\n",
       "                                               cleaned_up  \n",
       "499718               i miss them too soooooooon two days   \n",
       "102734  oh noooo the wound on my finger is not going t...  \n",
       "19814    i hope so i wouldnt want too many of those ki...  \n",
       "802083  i m in a david bowie mood i feel like watching...  \n",
       "909118                              send that along lady   "
      ]
     },
     "execution_count": 10,
     "metadata": {},
     "output_type": "execute_result"
    }
   ],
   "source": [
    "def clean_up(s):\n",
    "    no_handle = re.sub('@\\w+','',s)\n",
    "    noURL = re.sub(r'\\w+:\\/{2}[\\d\\w-]+(\\.[\\d\\w-]+)*(?:(?:\\/[^\\s/]*))*', ' ', no_handle)\n",
    "    alpha = re.sub(\"[^a-zA-Z]+\", \" \", noURL)\n",
    "    string=alpha.lower()\n",
    "    return (string)\n",
    "sample['cleaned_up'] = sample['text'].apply(clean_up)\n",
    "sample.head()"
   ]
  },
  {
   "cell_type": "code",
   "execution_count": 11,
   "metadata": {},
   "outputs": [],
   "source": [
    "#had to change the clean up function to remove the twitter handles"
   ]
  },
  {
   "cell_type": "code",
   "execution_count": 12,
   "metadata": {},
   "outputs": [
    {
     "data": {
      "text/html": [
       "<div>\n",
       "<style scoped>\n",
       "    .dataframe tbody tr th:only-of-type {\n",
       "        vertical-align: middle;\n",
       "    }\n",
       "\n",
       "    .dataframe tbody tr th {\n",
       "        vertical-align: top;\n",
       "    }\n",
       "\n",
       "    .dataframe thead th {\n",
       "        text-align: right;\n",
       "    }\n",
       "</style>\n",
       "<table border=\"1\" class=\"dataframe\">\n",
       "  <thead>\n",
       "    <tr style=\"text-align: right;\">\n",
       "      <th></th>\n",
       "      <th>target</th>\n",
       "      <th>ids</th>\n",
       "      <th>date</th>\n",
       "      <th>flag</th>\n",
       "      <th>user</th>\n",
       "      <th>text</th>\n",
       "      <th>cleaned_up</th>\n",
       "      <th>tokenized</th>\n",
       "    </tr>\n",
       "  </thead>\n",
       "  <tbody>\n",
       "    <tr>\n",
       "      <th>499718</th>\n",
       "      <td>0</td>\n",
       "      <td>2186620702</td>\n",
       "      <td>Mon Jun 15 19:05:52 PDT 2009</td>\n",
       "      <td>NO_QUERY</td>\n",
       "      <td>remembermaine</td>\n",
       "      <td>@saykendrawithme I MISS THEM TOO  Soooooooon. ...</td>\n",
       "      <td>i miss them too soooooooon two days</td>\n",
       "      <td>[i, miss, them, too, soooooooon, two, days]</td>\n",
       "    </tr>\n",
       "    <tr>\n",
       "      <th>102734</th>\n",
       "      <td>0</td>\n",
       "      <td>1795179384</td>\n",
       "      <td>Thu May 14 07:18:21 PDT 2009</td>\n",
       "      <td>NO_QUERY</td>\n",
       "      <td>AprilMooMoo</td>\n",
       "      <td>Oh noooo the wound on my finger is not going t...</td>\n",
       "      <td>oh noooo the wound on my finger is not going t...</td>\n",
       "      <td>[oh, noooo, the, wound, on, my, finger, is, no...</td>\n",
       "    </tr>\n",
       "    <tr>\n",
       "      <th>19814</th>\n",
       "      <td>0</td>\n",
       "      <td>1556938499</td>\n",
       "      <td>Sun Apr 19 01:06:56 PDT 2009</td>\n",
       "      <td>NO_QUERY</td>\n",
       "      <td>SarahSaner</td>\n",
       "      <td>@murphygrainne I hope so, I wouldnt want too m...</td>\n",
       "      <td>i hope so i wouldnt want too many of those ki...</td>\n",
       "      <td>[i, hope, so, i, wouldnt, want, too, many, of,...</td>\n",
       "    </tr>\n",
       "    <tr>\n",
       "      <th>802083</th>\n",
       "      <td>4</td>\n",
       "      <td>1468178974</td>\n",
       "      <td>Tue Apr 07 00:08:40 PDT 2009</td>\n",
       "      <td>NO_QUERY</td>\n",
       "      <td>ForeverYours__</td>\n",
       "      <td>I'm in a David Bowie mood  I feel like watchin...</td>\n",
       "      <td>i m in a david bowie mood i feel like watching...</td>\n",
       "      <td>[i, m, in, a, david, bowie, mood, i, feel, lik...</td>\n",
       "    </tr>\n",
       "    <tr>\n",
       "      <th>909118</th>\n",
       "      <td>4</td>\n",
       "      <td>1751105007</td>\n",
       "      <td>Sat May 09 18:40:31 PDT 2009</td>\n",
       "      <td>NO_QUERY</td>\n",
       "      <td>g_rob</td>\n",
       "      <td>@katintherat Send that along, lady.</td>\n",
       "      <td>send that along lady</td>\n",
       "      <td>[send, that, along, lady]</td>\n",
       "    </tr>\n",
       "  </tbody>\n",
       "</table>\n",
       "</div>"
      ],
      "text/plain": [
       "        target         ids                          date      flag  \\\n",
       "499718       0  2186620702  Mon Jun 15 19:05:52 PDT 2009  NO_QUERY   \n",
       "102734       0  1795179384  Thu May 14 07:18:21 PDT 2009  NO_QUERY   \n",
       "19814        0  1556938499  Sun Apr 19 01:06:56 PDT 2009  NO_QUERY   \n",
       "802083       4  1468178974  Tue Apr 07 00:08:40 PDT 2009  NO_QUERY   \n",
       "909118       4  1751105007  Sat May 09 18:40:31 PDT 2009  NO_QUERY   \n",
       "\n",
       "                  user                                               text  \\\n",
       "499718   remembermaine  @saykendrawithme I MISS THEM TOO  Soooooooon. ...   \n",
       "102734     AprilMooMoo  Oh noooo the wound on my finger is not going t...   \n",
       "19814       SarahSaner  @murphygrainne I hope so, I wouldnt want too m...   \n",
       "802083  ForeverYours__  I'm in a David Bowie mood  I feel like watchin...   \n",
       "909118           g_rob              @katintherat Send that along, lady.     \n",
       "\n",
       "                                               cleaned_up  \\\n",
       "499718               i miss them too soooooooon two days    \n",
       "102734  oh noooo the wound on my finger is not going t...   \n",
       "19814    i hope so i wouldnt want too many of those ki...   \n",
       "802083  i m in a david bowie mood i feel like watching...   \n",
       "909118                              send that along lady    \n",
       "\n",
       "                                                tokenized  \n",
       "499718        [i, miss, them, too, soooooooon, two, days]  \n",
       "102734  [oh, noooo, the, wound, on, my, finger, is, no...  \n",
       "19814   [i, hope, so, i, wouldnt, want, too, many, of,...  \n",
       "802083  [i, m, in, a, david, bowie, mood, i, feel, lik...  \n",
       "909118                          [send, that, along, lady]  "
      ]
     },
     "execution_count": 12,
     "metadata": {},
     "output_type": "execute_result"
    }
   ],
   "source": [
    "def tokenize(s):\n",
    "    tokens = word_tokenize(s)\n",
    "    return (tokens)\n",
    "sample['tokenized'] = sample['cleaned_up'].apply(tokenize)\n",
    "sample.head()"
   ]
  },
  {
   "cell_type": "code",
   "execution_count": 13,
   "metadata": {},
   "outputs": [
    {
     "data": {
      "text/html": [
       "<div>\n",
       "<style scoped>\n",
       "    .dataframe tbody tr th:only-of-type {\n",
       "        vertical-align: middle;\n",
       "    }\n",
       "\n",
       "    .dataframe tbody tr th {\n",
       "        vertical-align: top;\n",
       "    }\n",
       "\n",
       "    .dataframe thead th {\n",
       "        text-align: right;\n",
       "    }\n",
       "</style>\n",
       "<table border=\"1\" class=\"dataframe\">\n",
       "  <thead>\n",
       "    <tr style=\"text-align: right;\">\n",
       "      <th></th>\n",
       "      <th>target</th>\n",
       "      <th>ids</th>\n",
       "      <th>date</th>\n",
       "      <th>flag</th>\n",
       "      <th>user</th>\n",
       "      <th>text</th>\n",
       "      <th>cleaned_up</th>\n",
       "      <th>tokenized</th>\n",
       "      <th>stem_lem</th>\n",
       "    </tr>\n",
       "  </thead>\n",
       "  <tbody>\n",
       "    <tr>\n",
       "      <th>499718</th>\n",
       "      <td>0</td>\n",
       "      <td>2186620702</td>\n",
       "      <td>Mon Jun 15 19:05:52 PDT 2009</td>\n",
       "      <td>NO_QUERY</td>\n",
       "      <td>remembermaine</td>\n",
       "      <td>@saykendrawithme I MISS THEM TOO  Soooooooon. ...</td>\n",
       "      <td>i miss them too soooooooon two days</td>\n",
       "      <td>[i, miss, them, too, soooooooon, two, days]</td>\n",
       "      <td>[i, miss, them, too, soooooooon, two, day]</td>\n",
       "    </tr>\n",
       "    <tr>\n",
       "      <th>102734</th>\n",
       "      <td>0</td>\n",
       "      <td>1795179384</td>\n",
       "      <td>Thu May 14 07:18:21 PDT 2009</td>\n",
       "      <td>NO_QUERY</td>\n",
       "      <td>AprilMooMoo</td>\n",
       "      <td>Oh noooo the wound on my finger is not going t...</td>\n",
       "      <td>oh noooo the wound on my finger is not going t...</td>\n",
       "      <td>[oh, noooo, the, wound, on, my, finger, is, no...</td>\n",
       "      <td>[oh, noooo, the, wound, on, my, finger, is, no...</td>\n",
       "    </tr>\n",
       "    <tr>\n",
       "      <th>19814</th>\n",
       "      <td>0</td>\n",
       "      <td>1556938499</td>\n",
       "      <td>Sun Apr 19 01:06:56 PDT 2009</td>\n",
       "      <td>NO_QUERY</td>\n",
       "      <td>SarahSaner</td>\n",
       "      <td>@murphygrainne I hope so, I wouldnt want too m...</td>\n",
       "      <td>i hope so i wouldnt want too many of those ki...</td>\n",
       "      <td>[i, hope, so, i, wouldnt, want, too, many, of,...</td>\n",
       "      <td>[i, hope, so, i, wouldnt, want, too, many, of,...</td>\n",
       "    </tr>\n",
       "    <tr>\n",
       "      <th>802083</th>\n",
       "      <td>4</td>\n",
       "      <td>1468178974</td>\n",
       "      <td>Tue Apr 07 00:08:40 PDT 2009</td>\n",
       "      <td>NO_QUERY</td>\n",
       "      <td>ForeverYours__</td>\n",
       "      <td>I'm in a David Bowie mood  I feel like watchin...</td>\n",
       "      <td>i m in a david bowie mood i feel like watching...</td>\n",
       "      <td>[i, m, in, a, david, bowie, mood, i, feel, lik...</td>\n",
       "      <td>[i, m, in, a, david, bowie, mood, i, feel, lik...</td>\n",
       "    </tr>\n",
       "    <tr>\n",
       "      <th>909118</th>\n",
       "      <td>4</td>\n",
       "      <td>1751105007</td>\n",
       "      <td>Sat May 09 18:40:31 PDT 2009</td>\n",
       "      <td>NO_QUERY</td>\n",
       "      <td>g_rob</td>\n",
       "      <td>@katintherat Send that along, lady.</td>\n",
       "      <td>send that along lady</td>\n",
       "      <td>[send, that, along, lady]</td>\n",
       "      <td>[send, that, along, lady]</td>\n",
       "    </tr>\n",
       "  </tbody>\n",
       "</table>\n",
       "</div>"
      ],
      "text/plain": [
       "        target         ids                          date      flag  \\\n",
       "499718       0  2186620702  Mon Jun 15 19:05:52 PDT 2009  NO_QUERY   \n",
       "102734       0  1795179384  Thu May 14 07:18:21 PDT 2009  NO_QUERY   \n",
       "19814        0  1556938499  Sun Apr 19 01:06:56 PDT 2009  NO_QUERY   \n",
       "802083       4  1468178974  Tue Apr 07 00:08:40 PDT 2009  NO_QUERY   \n",
       "909118       4  1751105007  Sat May 09 18:40:31 PDT 2009  NO_QUERY   \n",
       "\n",
       "                  user                                               text  \\\n",
       "499718   remembermaine  @saykendrawithme I MISS THEM TOO  Soooooooon. ...   \n",
       "102734     AprilMooMoo  Oh noooo the wound on my finger is not going t...   \n",
       "19814       SarahSaner  @murphygrainne I hope so, I wouldnt want too m...   \n",
       "802083  ForeverYours__  I'm in a David Bowie mood  I feel like watchin...   \n",
       "909118           g_rob              @katintherat Send that along, lady.     \n",
       "\n",
       "                                               cleaned_up  \\\n",
       "499718               i miss them too soooooooon two days    \n",
       "102734  oh noooo the wound on my finger is not going t...   \n",
       "19814    i hope so i wouldnt want too many of those ki...   \n",
       "802083  i m in a david bowie mood i feel like watching...   \n",
       "909118                              send that along lady    \n",
       "\n",
       "                                                tokenized  \\\n",
       "499718        [i, miss, them, too, soooooooon, two, days]   \n",
       "102734  [oh, noooo, the, wound, on, my, finger, is, no...   \n",
       "19814   [i, hope, so, i, wouldnt, want, too, many, of,...   \n",
       "802083  [i, m, in, a, david, bowie, mood, i, feel, lik...   \n",
       "909118                          [send, that, along, lady]   \n",
       "\n",
       "                                                 stem_lem  \n",
       "499718         [i, miss, them, too, soooooooon, two, day]  \n",
       "102734  [oh, noooo, the, wound, on, my, finger, is, no...  \n",
       "19814   [i, hope, so, i, wouldnt, want, too, many, of,...  \n",
       "802083  [i, m, in, a, david, bowie, mood, i, feel, lik...  \n",
       "909118                          [send, that, along, lady]  "
      ]
     },
     "execution_count": 13,
     "metadata": {},
     "output_type": "execute_result"
    }
   ],
   "source": [
    "def stem_and_lemmatize(l):\n",
    "    ps = PorterStemmer()\n",
    "    stemmed = [ps.stem(l) for l in l]\n",
    "    lemmatizer = WordNetLemmatizer() \n",
    "    lemmatized = [lemmatizer.lemmatize(l) for l in l]\n",
    "    return(lemmatized)\n",
    "\n",
    "sample['stem_lem'] = sample['tokenized'].apply(stem_and_lemmatize)\n",
    "sample.head()"
   ]
  },
  {
   "cell_type": "code",
   "execution_count": 30,
   "metadata": {},
   "outputs": [
    {
     "name": "stdout",
     "output_type": "stream",
     "text": [
      "CPU times: user 2min 22s, sys: 12.9 s, total: 2min 35s\n",
      "Wall time: 2min 35s\n"
     ]
    },
    {
     "data": {
      "text/html": [
       "<div>\n",
       "<style scoped>\n",
       "    .dataframe tbody tr th:only-of-type {\n",
       "        vertical-align: middle;\n",
       "    }\n",
       "\n",
       "    .dataframe tbody tr th {\n",
       "        vertical-align: top;\n",
       "    }\n",
       "\n",
       "    .dataframe thead th {\n",
       "        text-align: right;\n",
       "    }\n",
       "</style>\n",
       "<table border=\"1\" class=\"dataframe\">\n",
       "  <thead>\n",
       "    <tr style=\"text-align: right;\">\n",
       "      <th></th>\n",
       "      <th>target</th>\n",
       "      <th>ids</th>\n",
       "      <th>date</th>\n",
       "      <th>flag</th>\n",
       "      <th>user</th>\n",
       "      <th>text</th>\n",
       "      <th>cleaned_up</th>\n",
       "      <th>tokenized</th>\n",
       "      <th>stem_lem</th>\n",
       "      <th>text_processed</th>\n",
       "    </tr>\n",
       "  </thead>\n",
       "  <tbody>\n",
       "    <tr>\n",
       "      <th>499718</th>\n",
       "      <td>0</td>\n",
       "      <td>2186620702</td>\n",
       "      <td>Mon Jun 15 19:05:52 PDT 2009</td>\n",
       "      <td>NO_QUERY</td>\n",
       "      <td>remembermaine</td>\n",
       "      <td>@saykendrawithme I MISS THEM TOO  Soooooooon. ...</td>\n",
       "      <td>i miss them too soooooooon two days</td>\n",
       "      <td>[i, miss, them, too, soooooooon, two, days]</td>\n",
       "      <td>[i, miss, them, too, soooooooon, two, day]</td>\n",
       "      <td>[miss, soooooooon, two, day]</td>\n",
       "    </tr>\n",
       "    <tr>\n",
       "      <th>102734</th>\n",
       "      <td>0</td>\n",
       "      <td>1795179384</td>\n",
       "      <td>Thu May 14 07:18:21 PDT 2009</td>\n",
       "      <td>NO_QUERY</td>\n",
       "      <td>AprilMooMoo</td>\n",
       "      <td>Oh noooo the wound on my finger is not going t...</td>\n",
       "      <td>oh noooo the wound on my finger is not going t...</td>\n",
       "      <td>[oh, noooo, the, wound, on, my, finger, is, no...</td>\n",
       "      <td>[oh, noooo, the, wound, on, my, finger, is, no...</td>\n",
       "      <td>[oh, noooo, wound, finger, going, heal, pulled...</td>\n",
       "    </tr>\n",
       "    <tr>\n",
       "      <th>19814</th>\n",
       "      <td>0</td>\n",
       "      <td>1556938499</td>\n",
       "      <td>Sun Apr 19 01:06:56 PDT 2009</td>\n",
       "      <td>NO_QUERY</td>\n",
       "      <td>SarahSaner</td>\n",
       "      <td>@murphygrainne I hope so, I wouldnt want too m...</td>\n",
       "      <td>i hope so i wouldnt want too many of those ki...</td>\n",
       "      <td>[i, hope, so, i, wouldnt, want, too, many, of,...</td>\n",
       "      <td>[i, hope, so, i, wouldnt, want, too, many, of,...</td>\n",
       "      <td>[hope, wouldnt, many, kind, night, felt, unref...</td>\n",
       "    </tr>\n",
       "    <tr>\n",
       "      <th>802083</th>\n",
       "      <td>4</td>\n",
       "      <td>1468178974</td>\n",
       "      <td>Tue Apr 07 00:08:40 PDT 2009</td>\n",
       "      <td>NO_QUERY</td>\n",
       "      <td>ForeverYours__</td>\n",
       "      <td>I'm in a David Bowie mood  I feel like watchin...</td>\n",
       "      <td>i m in a david bowie mood i feel like watching...</td>\n",
       "      <td>[i, m, in, a, david, bowie, mood, i, feel, lik...</td>\n",
       "      <td>[i, m, in, a, david, bowie, mood, i, feel, lik...</td>\n",
       "      <td>[david, bowie, mood, feel, like, watching, lab...</td>\n",
       "    </tr>\n",
       "    <tr>\n",
       "      <th>909118</th>\n",
       "      <td>4</td>\n",
       "      <td>1751105007</td>\n",
       "      <td>Sat May 09 18:40:31 PDT 2009</td>\n",
       "      <td>NO_QUERY</td>\n",
       "      <td>g_rob</td>\n",
       "      <td>@katintherat Send that along, lady.</td>\n",
       "      <td>send that along lady</td>\n",
       "      <td>[send, that, along, lady]</td>\n",
       "      <td>[send, that, along, lady]</td>\n",
       "      <td>[send, along, lady]</td>\n",
       "    </tr>\n",
       "  </tbody>\n",
       "</table>\n",
       "</div>"
      ],
      "text/plain": [
       "        target         ids                          date      flag  \\\n",
       "499718       0  2186620702  Mon Jun 15 19:05:52 PDT 2009  NO_QUERY   \n",
       "102734       0  1795179384  Thu May 14 07:18:21 PDT 2009  NO_QUERY   \n",
       "19814        0  1556938499  Sun Apr 19 01:06:56 PDT 2009  NO_QUERY   \n",
       "802083       4  1468178974  Tue Apr 07 00:08:40 PDT 2009  NO_QUERY   \n",
       "909118       4  1751105007  Sat May 09 18:40:31 PDT 2009  NO_QUERY   \n",
       "\n",
       "                  user                                               text  \\\n",
       "499718   remembermaine  @saykendrawithme I MISS THEM TOO  Soooooooon. ...   \n",
       "102734     AprilMooMoo  Oh noooo the wound on my finger is not going t...   \n",
       "19814       SarahSaner  @murphygrainne I hope so, I wouldnt want too m...   \n",
       "802083  ForeverYours__  I'm in a David Bowie mood  I feel like watchin...   \n",
       "909118           g_rob              @katintherat Send that along, lady.     \n",
       "\n",
       "                                               cleaned_up  \\\n",
       "499718               i miss them too soooooooon two days    \n",
       "102734  oh noooo the wound on my finger is not going t...   \n",
       "19814    i hope so i wouldnt want too many of those ki...   \n",
       "802083  i m in a david bowie mood i feel like watching...   \n",
       "909118                              send that along lady    \n",
       "\n",
       "                                                tokenized  \\\n",
       "499718        [i, miss, them, too, soooooooon, two, days]   \n",
       "102734  [oh, noooo, the, wound, on, my, finger, is, no...   \n",
       "19814   [i, hope, so, i, wouldnt, want, too, many, of,...   \n",
       "802083  [i, m, in, a, david, bowie, mood, i, feel, lik...   \n",
       "909118                          [send, that, along, lady]   \n",
       "\n",
       "                                                 stem_lem  \\\n",
       "499718         [i, miss, them, too, soooooooon, two, day]   \n",
       "102734  [oh, noooo, the, wound, on, my, finger, is, no...   \n",
       "19814   [i, hope, so, i, wouldnt, want, too, many, of,...   \n",
       "802083  [i, m, in, a, david, bowie, mood, i, feel, lik...   \n",
       "909118                          [send, that, along, lady]   \n",
       "\n",
       "                                           text_processed  \n",
       "499718                       [miss, soooooooon, two, day]  \n",
       "102734  [oh, noooo, wound, finger, going, heal, pulled...  \n",
       "19814   [hope, wouldnt, many, kind, night, felt, unref...  \n",
       "802083  [david, bowie, mood, feel, like, watching, lab...  \n",
       "909118                                [send, along, lady]  "
      ]
     },
     "execution_count": 30,
     "metadata": {},
     "output_type": "execute_result"
    }
   ],
   "source": [
    "%%time\n",
    "\n",
    "def remove_stopwords(l):\n",
    "    removed = [word for word in l if not word in stopwords.words()]\n",
    "    return(removed)\n",
    "\n",
    "sample['text_processed'] = sample['stem_lem'].apply(remove_stopwords)\n",
    "sample.head()"
   ]
  },
  {
   "cell_type": "code",
   "execution_count": 31,
   "metadata": {},
   "outputs": [
    {
     "data": {
      "text/html": [
       "<div>\n",
       "<style scoped>\n",
       "    .dataframe tbody tr th:only-of-type {\n",
       "        vertical-align: middle;\n",
       "    }\n",
       "\n",
       "    .dataframe tbody tr th {\n",
       "        vertical-align: top;\n",
       "    }\n",
       "\n",
       "    .dataframe thead th {\n",
       "        text-align: right;\n",
       "    }\n",
       "</style>\n",
       "<table border=\"1\" class=\"dataframe\">\n",
       "  <thead>\n",
       "    <tr style=\"text-align: right;\">\n",
       "      <th></th>\n",
       "      <th>target</th>\n",
       "      <th>ids</th>\n",
       "      <th>date</th>\n",
       "      <th>flag</th>\n",
       "      <th>user</th>\n",
       "      <th>text</th>\n",
       "      <th>text_processed</th>\n",
       "    </tr>\n",
       "  </thead>\n",
       "  <tbody>\n",
       "    <tr>\n",
       "      <th>499718</th>\n",
       "      <td>0</td>\n",
       "      <td>2186620702</td>\n",
       "      <td>Mon Jun 15 19:05:52 PDT 2009</td>\n",
       "      <td>NO_QUERY</td>\n",
       "      <td>remembermaine</td>\n",
       "      <td>@saykendrawithme I MISS THEM TOO  Soooooooon. ...</td>\n",
       "      <td>[miss, soooooooon, two, day]</td>\n",
       "    </tr>\n",
       "    <tr>\n",
       "      <th>102734</th>\n",
       "      <td>0</td>\n",
       "      <td>1795179384</td>\n",
       "      <td>Thu May 14 07:18:21 PDT 2009</td>\n",
       "      <td>NO_QUERY</td>\n",
       "      <td>AprilMooMoo</td>\n",
       "      <td>Oh noooo the wound on my finger is not going t...</td>\n",
       "      <td>[oh, noooo, wound, finger, going, heal, pulled...</td>\n",
       "    </tr>\n",
       "    <tr>\n",
       "      <th>19814</th>\n",
       "      <td>0</td>\n",
       "      <td>1556938499</td>\n",
       "      <td>Sun Apr 19 01:06:56 PDT 2009</td>\n",
       "      <td>NO_QUERY</td>\n",
       "      <td>SarahSaner</td>\n",
       "      <td>@murphygrainne I hope so, I wouldnt want too m...</td>\n",
       "      <td>[hope, wouldnt, many, kind, night, felt, unref...</td>\n",
       "    </tr>\n",
       "    <tr>\n",
       "      <th>802083</th>\n",
       "      <td>4</td>\n",
       "      <td>1468178974</td>\n",
       "      <td>Tue Apr 07 00:08:40 PDT 2009</td>\n",
       "      <td>NO_QUERY</td>\n",
       "      <td>ForeverYours__</td>\n",
       "      <td>I'm in a David Bowie mood  I feel like watchin...</td>\n",
       "      <td>[david, bowie, mood, feel, like, watching, lab...</td>\n",
       "    </tr>\n",
       "    <tr>\n",
       "      <th>909118</th>\n",
       "      <td>4</td>\n",
       "      <td>1751105007</td>\n",
       "      <td>Sat May 09 18:40:31 PDT 2009</td>\n",
       "      <td>NO_QUERY</td>\n",
       "      <td>g_rob</td>\n",
       "      <td>@katintherat Send that along, lady.</td>\n",
       "      <td>[send, along, lady]</td>\n",
       "    </tr>\n",
       "  </tbody>\n",
       "</table>\n",
       "</div>"
      ],
      "text/plain": [
       "        target         ids                          date      flag  \\\n",
       "499718       0  2186620702  Mon Jun 15 19:05:52 PDT 2009  NO_QUERY   \n",
       "102734       0  1795179384  Thu May 14 07:18:21 PDT 2009  NO_QUERY   \n",
       "19814        0  1556938499  Sun Apr 19 01:06:56 PDT 2009  NO_QUERY   \n",
       "802083       4  1468178974  Tue Apr 07 00:08:40 PDT 2009  NO_QUERY   \n",
       "909118       4  1751105007  Sat May 09 18:40:31 PDT 2009  NO_QUERY   \n",
       "\n",
       "                  user                                               text  \\\n",
       "499718   remembermaine  @saykendrawithme I MISS THEM TOO  Soooooooon. ...   \n",
       "102734     AprilMooMoo  Oh noooo the wound on my finger is not going t...   \n",
       "19814       SarahSaner  @murphygrainne I hope so, I wouldnt want too m...   \n",
       "802083  ForeverYours__  I'm in a David Bowie mood  I feel like watchin...   \n",
       "909118           g_rob              @katintherat Send that along, lady.     \n",
       "\n",
       "                                           text_processed  \n",
       "499718                       [miss, soooooooon, two, day]  \n",
       "102734  [oh, noooo, wound, finger, going, heal, pulled...  \n",
       "19814   [hope, wouldnt, many, kind, night, felt, unref...  \n",
       "802083  [david, bowie, mood, feel, like, watching, lab...  \n",
       "909118                                [send, along, lady]  "
      ]
     },
     "execution_count": 31,
     "metadata": {},
     "output_type": "execute_result"
    }
   ],
   "source": [
    "clean_sample = sample.drop(['cleaned_up','tokenized','stem_lem'],axis=1)\n",
    "clean_sample.head()"
   ]
  },
  {
   "cell_type": "markdown",
   "metadata": {},
   "source": [
    "### Creating Bag of Words\n",
    "\n",
    "The purpose of this step is to create a [bag of words](https://en.wikipedia.org/wiki/Bag-of-words_model) from the processed data. The bag of words contains all the unique words in your whole text body (a.k.a. *corpus*) with the number of occurrence of each word. It will allow you to understand which words are the most important features across the whole corpus.\n",
    "\n",
    "Also, you can imagine you will have a massive set of words. The less important words (i.e. those of very low number of occurrence) do not contribute much to the sentiment. Therefore, you only need to use the most important words to build your feature set in the next step. In our case, we will use the top 5,000 words with the highest frequency to build the features.\n",
    "\n",
    "In the cell below, combine all the words in `text_processed` and calculate the frequency distribution of all words. A convenient library to calculate the term frequency distribution is NLTK's `FreqDist` class ([documentation](https://www.nltk.org/api/nltk.html#module-nltk.probability)). Then select the top 5,000 words from the frequency distribution."
   ]
  },
  {
   "cell_type": "code",
   "execution_count": 32,
   "metadata": {},
   "outputs": [],
   "source": [
    "flat_list = []\n",
    "for sublist in clean_sample['text_processed']:\n",
    "    for item in sublist:\n",
    "        flat_list.append(item)\n",
    "#found the loop here: https://stackoverflow.com/questions/952914/how-to-make-a-flat-list-out-of-a-list-of-lists"
   ]
  },
  {
   "cell_type": "code",
   "execution_count": null,
   "metadata": {},
   "outputs": [],
   "source": [
    "#Then had to look through documentation of freqdist and also how to select top 5000. "
   ]
  },
  {
   "cell_type": "code",
   "execution_count": 34,
   "metadata": {},
   "outputs": [],
   "source": [
    "from nltk.probability import FreqDist\n",
    "fdist = FreqDist(flat_list)\n",
    "top_5000 = fdist.most_common(5000)\n",
    "\n",
    "top_words_only = []\n",
    "for a_tuple in top_5000:\n",
    "    top_words_only.append(a_tuple[0])"
   ]
  },
  {
   "cell_type": "markdown",
   "metadata": {},
   "source": [
    "### Building Features\n",
    "\n",
    "Now let's build the features. Using the top 5,000 words, create a 2-dimensional matrix to record whether each of those words is contained in each document (tweet). Then you also have an output column to indicate whether the sentiment in each tweet is positive. For example, assuming your bag of words has 5 items (`['one', 'two', 'three', 'four', 'five']`) out of 4 documents (`['A', 'B', 'C', 'D']`), your feature set is essentially:\n",
    "\n",
    "| Doc | one | two | three | four | five | is_positive |\n",
    "|---|---|---|---|---|---|---|\n",
    "| A | True | False | False | True | False | True |\n",
    "| B | False | False | False | True | True | False |\n",
    "| C | False | True | False | False | False | True |\n",
    "| D | True | False | False | False | True | False|\n",
    "\n",
    "However, because the `nltk.NaiveBayesClassifier.train` class we will use in the next step does not work with Pandas dataframe, the structure of your feature set should be converted to the Python list looking like below:\n",
    "\n",
    "```python\n",
    "[\n",
    "\t({\n",
    "\t\t'one': True,\n",
    "\t\t'two': False,\n",
    "\t\t'three': False,\n",
    "\t\t'four': True,\n",
    "\t\t'five': False\n",
    "\t}, True),\n",
    "\t({\n",
    "\t\t'one': False,\n",
    "\t\t'two': False,\n",
    "\t\t'three': False,\n",
    "\t\t'four': True,\n",
    "\t\t'five': True\n",
    "\t}, False),\n",
    "\t({\n",
    "\t\t'one': False,\n",
    "\t\t'two': True,\n",
    "\t\t'three': False,\n",
    "\t\t'four': False,\n",
    "\t\t'five': False\n",
    "\t}, True),\n",
    "\t({\n",
    "\t\t'one': True,\n",
    "\t\t'two': False,\n",
    "\t\t'three': False,\n",
    "\t\t'four': False,\n",
    "\t\t'five': True\n",
    "\t}, False)\n",
    "]\n",
    "```\n",
    "\n",
    "To help you in this step, watch the [following video](https://www.youtube.com/watch?v=-vVskDsHcVc) to learn how to build the feature set with Python and NLTK. The source code in this video can be found [here](https://pythonprogramming.net/words-as-features-nltk-tutorial/)."
   ]
  },
  {
   "cell_type": "markdown",
   "metadata": {},
   "source": [
    "[![Building Features](building-features.jpg)](https://www.youtube.com/watch?v=-vVskDsHcVc)"
   ]
  },
  {
   "cell_type": "code",
   "execution_count": 36,
   "metadata": {},
   "outputs": [],
   "source": [
    "def find_features(row):\n",
    "    words = row['text_processed']\n",
    "    features = {}\n",
    "    is_positive = (row['target'] != 0)\n",
    "    for w in top_words_only:\n",
    "        features[w] = (w in words)\n",
    "    return (features, is_positive)"
   ]
  },
  {
   "cell_type": "code",
   "execution_count": 37,
   "metadata": {},
   "outputs": [],
   "source": [
    "featuresets = list(clean_sample.apply(find_features, axis=1))"
   ]
  },
  {
   "cell_type": "markdown",
   "metadata": {},
   "source": [
    "### Building and Traininng Naive Bayes Model\n",
    "\n",
    "In this step you will split your feature set into a training and a test set. Then you will create a Bayes classifier instance using `nltk.NaiveBayesClassifier.train` ([example](https://www.nltk.org/book/ch06.html)) to train with the training dataset.\n",
    "\n",
    "After training the model, call `classifier.show_most_informative_features()` to inspect the most important features. The output will look like:\n",
    "\n",
    "```\n",
    "Most Informative Features\n",
    "\t    snow = True            False : True   =     34.3 : 1.0\n",
    "\t  easter = True            False : True   =     26.2 : 1.0\n",
    "\t headach = True            False : True   =     20.9 : 1.0\n",
    "\t    argh = True            False : True   =     17.6 : 1.0\n",
    "\tunfortun = True            False : True   =     16.9 : 1.0\n",
    "\t    jona = True             True : False  =     16.2 : 1.0\n",
    "\t     ach = True            False : True   =     14.9 : 1.0\n",
    "\t     sad = True            False : True   =     13.0 : 1.0\n",
    "\t  parent = True            False : True   =     12.9 : 1.0\n",
    "\t  spring = True            False : True   =     12.7 : 1.0\n",
    "```\n",
    "\n",
    "The [following video](https://www.youtube.com/watch?v=rISOsUaTrO4) will help you complete this step. The source code in this video can be found [here](https://pythonprogramming.net/naive-bayes-classifier-nltk-tutorial/)."
   ]
  },
  {
   "cell_type": "markdown",
   "metadata": {},
   "source": [
    "[![Building and Training NB](nb-model-building.jpg)](https://www.youtube.com/watch?v=rISOsUaTrO4)"
   ]
  },
  {
   "cell_type": "code",
   "execution_count": 38,
   "metadata": {},
   "outputs": [
    {
     "data": {
      "text/plain": [
       "5000"
      ]
     },
     "execution_count": 38,
     "metadata": {},
     "output_type": "execute_result"
    }
   ],
   "source": [
    "#featureset is still my 5000 tweets from the sample. "
   ]
  },
  {
   "cell_type": "code",
   "execution_count": 39,
   "metadata": {},
   "outputs": [],
   "source": [
    "training_set = featuresets[:4000]\n",
    "testing_set = featuresets[4000:]"
   ]
  },
  {
   "cell_type": "code",
   "execution_count": 40,
   "metadata": {},
   "outputs": [],
   "source": [
    "classifier = nltk.NaiveBayesClassifier.train(training_set)"
   ]
  },
  {
   "cell_type": "markdown",
   "metadata": {},
   "source": [
    "### Testing Naive Bayes Model\n",
    "\n",
    "Now we'll test our classifier with the test dataset. This is done by calling `nltk.classify.accuracy(classifier, test)`.\n",
    "\n",
    "As mentioned in one of the tutorial videos, a Naive Bayes model is considered OK if your accuracy score is over 0.6. If your accuracy score is over 0.7, you've done a great job!"
   ]
  },
  {
   "cell_type": "code",
   "execution_count": 41,
   "metadata": {},
   "outputs": [
    {
     "name": "stdout",
     "output_type": "stream",
     "text": [
      "Classifier accuracy percent: 69.39999999999999\n"
     ]
    }
   ],
   "source": [
    "print(\"Classifier accuracy percent:\",(nltk.classify.accuracy(classifier, testing_set))*100)"
   ]
  },
  {
   "cell_type": "code",
   "execution_count": 42,
   "metadata": {},
   "outputs": [
    {
     "name": "stdout",
     "output_type": "stream",
     "text": [
      "Most Informative Features\n",
      "                   thank = True             True : False  =     19.1 : 1.0\n",
      "                     ugh = True            False : True   =     16.6 : 1.0\n",
      "                  thanks = True             True : False  =     13.5 : 1.0\n",
      "                  lovely = True             True : False  =     11.5 : 1.0\n",
      "                     sad = True            False : True   =      8.8 : 1.0\n",
      "                headache = True            False : True   =      8.5 : 1.0\n",
      "                    hate = True            False : True   =      8.1 : 1.0\n",
      "                    past = True            False : True   =      7.8 : 1.0\n",
      "                    hurt = True            False : True   =      7.7 : 1.0\n",
      "                    miss = True            False : True   =      7.5 : 1.0\n",
      "                    sick = True            False : True   =      7.5 : 1.0\n",
      "                     boo = True            False : True   =      7.1 : 1.0\n",
      "                    gone = True            False : True   =      7.1 : 1.0\n",
      "                    wont = True            False : True   =      7.1 : 1.0\n",
      "                 missing = True            False : True   =      6.7 : 1.0\n"
     ]
    }
   ],
   "source": [
    "classifier.show_most_informative_features(15)"
   ]
  },
  {
   "cell_type": "markdown",
   "metadata": {},
   "source": [
    "## Bonus Question 1: Improve Model Performance\n",
    "\n",
    "If you are still not exhausted so far and want to dig deeper, try to improve your classifier performance. There are many aspects you can dig into, for example:\n",
    "\n",
    "* Improve stemming and lemmatization. Inspect your bag of words and the most important features. Are there any words you should furuther remove from analysis? You can append these words to further remove to the stop words list.\n",
    "\n",
    "* Remember we only used the top 5,000 features to build model? Try using different numbers of top features. The bottom line is to use as few features as you can without compromising your model performance. The fewer features you select into your model, the faster your model is trained. Then you can use a larger sample size to improve your model accuracy score."
   ]
  },
  {
   "cell_type": "code",
   "execution_count": null,
   "metadata": {},
   "outputs": [],
   "source": [
    "# your code here"
   ]
  },
  {
   "cell_type": "markdown",
   "metadata": {},
   "source": [
    "## Bonus Question 2: Machine Learning Pipeline\n",
    "\n",
    "In a new Jupyter Notebook, combine all your codes into a function (or a class). Your new function will execute the complete machine learning pipeline job by receiving the dataset location and output the classifier. This will allow you to use your function to predict the sentiment of any tweet in real time. "
   ]
  },
  {
   "cell_type": "code",
   "execution_count": null,
   "metadata": {},
   "outputs": [],
   "source": [
    "# your code here"
   ]
  },
  {
   "cell_type": "markdown",
   "metadata": {},
   "source": [
    "## Bonus Question 3: Apache Spark\n",
    "\n",
    "If you have completed the Apache Spark advanced topic lab, what you can do is to migrate your pipeline from local to a Databricks Notebook. Share your notebook with your instructor and classmates to show off your achievements!"
   ]
  },
  {
   "cell_type": "code",
   "execution_count": null,
   "metadata": {},
   "outputs": [],
   "source": [
    "# your code here"
   ]
  }
 ],
 "metadata": {
  "kernelspec": {
   "display_name": "Python 3 (ipykernel)",
   "language": "python",
   "name": "python3"
  },
  "language_info": {
   "codemirror_mode": {
    "name": "ipython",
    "version": 3
   },
   "file_extension": ".py",
   "mimetype": "text/x-python",
   "name": "python",
   "nbconvert_exporter": "python",
   "pygments_lexer": "ipython3",
   "version": "3.9.7"
  },
  "toc": {
   "base_numbering": 1,
   "nav_menu": {},
   "number_sections": true,
   "sideBar": true,
   "skip_h1_title": false,
   "title_cell": "Table of Contents",
   "title_sidebar": "Contents",
   "toc_cell": false,
   "toc_position": {},
   "toc_section_display": true,
   "toc_window_display": false
  },
  "varInspector": {
   "cols": {
    "lenName": 16,
    "lenType": 16,
    "lenVar": 40
   },
   "kernels_config": {
    "python": {
     "delete_cmd_postfix": "",
     "delete_cmd_prefix": "del ",
     "library": "var_list.py",
     "varRefreshCmd": "print(var_dic_list())"
    },
    "r": {
     "delete_cmd_postfix": ") ",
     "delete_cmd_prefix": "rm(",
     "library": "var_list.r",
     "varRefreshCmd": "cat(var_dic_list()) "
    }
   },
   "types_to_exclude": [
    "module",
    "function",
    "builtin_function_or_method",
    "instance",
    "_Feature"
   ],
   "window_display": false
  }
 },
 "nbformat": 4,
 "nbformat_minor": 2
}
